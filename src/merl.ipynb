{
 "cells": [
  {
   "cell_type": "code",
   "execution_count": null,
   "id": "cc105fcb",
   "metadata": {},
   "outputs": [],
   "source": [
    "import os\n",
    "import glob\n",
    "import merl\n",
    "from glTF import *\n",
    "from bsdf import *\n",
    "import plotly.io as pio\n",
    "pio.renderers.default = \"notebook_connected\"\n",
    "\n",
    "\n",
    "dir = \"merl100/brdfs/\"\n",
    "\n",
    "materials = glob.glob(os.path.join(dir, \"*.binary\"), )\n",
    "# materials = [os.path.join(dir, \"alum-bronze.binary\")]\n",
    "# materials = [os.path.join(dir, \"white-fabric.binary\")]\n",
    "materials = [os.path.join(dir, \"red-plastic.binary\")]\n",
    "\n",
    "merl_data = merl.read_merl_brdf(materials[0])\n",
    "\n",
    "theta_v = 45 / 90.0 * np.pi / 2\n",
    "N_val = np.array([0, 0, 1], dtype=np.float32)\n",
    "V_val = np.array([np.sin(theta_v), 0, np.cos(theta_v)], dtype=np.float32)\n",
    "\n",
    "print(\n",
    "    \"Integral:\",\n",
    "    integrate_spherical_function(\n",
    "        lambda l: merl.lookup_brdf_val_vectorized(\n",
    "            merl_data,\n",
    "            np.arccos(V_val[..., 2]),\n",
    "            np.arctan2(V_val[..., 1], V_val[..., 0]),\n",
    "            np.arccos(l[..., 2]),\n",
    "            np.arctan2(l[..., 1], l[..., 0])\n",
    "        )[0] * np.abs(dot(l, N_val)),\n",
    "        100000\n",
    "    ),\n",
    ")\n",
    "plot_brdf(\n",
    "    \"glTF\",\n",
    "    lambda v, n, l: merl.lookup_brdf_val_vectorized(\n",
    "        merl_data,\n",
    "        np.arccos(v[..., 2]),\n",
    "        np.arctan2(v[..., 1], v[..., 0]),\n",
    "        np.arccos(l[..., 2]),\n",
    "        np.arctan2(l[..., 1], l[..., 0])\n",
    "    )[1],\n",
    "    V_val,\n",
    "    normalize=False,\n",
    ")"
   ]
  }
 ],
 "metadata": {
  "kernelspec": {
   "display_name": "gltfit",
   "language": "python",
   "name": "python3"
  },
  "language_info": {
   "codemirror_mode": {
    "name": "ipython",
    "version": 3
   },
   "file_extension": ".py",
   "mimetype": "text/x-python",
   "name": "python",
   "nbconvert_exporter": "python",
   "pygments_lexer": "ipython3",
   "version": "3.11.13"
  }
 },
 "nbformat": 4,
 "nbformat_minor": 5
}
