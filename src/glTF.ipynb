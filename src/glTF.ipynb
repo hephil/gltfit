{
 "cells": [
  {
   "cell_type": "markdown",
   "id": "2e119a5c",
   "metadata": {},
   "source": [
    "# glTF (Graphics Language Transmission Format)\n",
    "\n",
    "Material Specification is described in https://registry.khronos.org/glTF/specs/2.0/glTF-2.0.html#appendix-b-brdf-implementation\n",
    "\n"
   ]
  },
  {
   "cell_type": "code",
   "execution_count": null,
   "id": "9a480d91",
   "metadata": {},
   "outputs": [],
   "source": [
    "from glTF import *\n",
    "\n",
    "\n",
    "brdf = glTF_brdf()\n",
    "base_color, alpha, metallic, ior = brdf.bsdf_params.values()\n",
    "ior = sp.Symbol(r'\\mathrm{ior}')\n",
    "\n",
    "# ior = 1.5 # default without KHR_materials_ior\n",
    "\n",
    "display(sp.Eq(sp.Symbol(\"gltf\"), brdf.bsdf))"
   ]
  },
  {
   "cell_type": "markdown",
   "id": "4c6828db",
   "metadata": {},
   "source": [
    "# Material Structure\n",
    "\n",
    "    material = mix(dielectric_brdf, metal_brdf, metallic)\n",
    "         = (1.0 - metallic) * dielectric_brdf + metallic * metal_brdf\n"
   ]
  },
  {
   "cell_type": "markdown",
   "id": "c08c7a92",
   "metadata": {},
   "source": [
    "## Metals\n",
    "\n",
    "metal_brdf =\n",
    "  conductor_fresnel(\n",
    "    f0 = baseColor,\n",
    "    bsdf = specular_brdf(\n",
    "      α = roughness ^ 2))"
   ]
  },
  {
   "cell_type": "markdown",
   "id": "b3cf71ae",
   "metadata": {},
   "source": [
    "## Dielectrics\n",
    "\n",
    "    dielectric_brdf =\n",
    "        fresnel_mix(\n",
    "            ior = 1.5,\n",
    "            base = diffuse_brdf(\n",
    "            color = baseColor),\n",
    "            layer = specular_brdf(\n",
    "            α = roughness ^ 2))"
   ]
  },
  {
   "cell_type": "markdown",
   "id": "be050504",
   "metadata": {},
   "source": [
    "# Diffuse Component"
   ]
  },
  {
   "cell_type": "code",
   "execution_count": null,
   "id": "65498521",
   "metadata": {},
   "outputs": [],
   "source": [
    "diffuse = diffuse_component(C_SYM)\n",
    "display(diffuse)\n",
    "display(sp.Eq(sp.MatrixSymbol(\"LambertianBRDF\", 3, 1), diffuse))"
   ]
  },
  {
   "cell_type": "markdown",
   "id": "950d19ac",
   "metadata": {},
   "source": [
    "# Specular Component"
   ]
  },
  {
   "cell_type": "code",
   "execution_count": null,
   "id": "36e14037",
   "metadata": {},
   "outputs": [],
   "source": [
    "display(sp.Eq(H_SYM, half_vector(V, N, L)))\n",
    "display(sp.Eq(H_SYM, half_vector(V_SYM, N_SYM, L_SYM)))\n",
    "\n",
    "D_sym, VX_sym = sp.symbols(\"D V_ggx\")\n",
    "\n",
    "display(sp.Eq(D_sym, specular_D_GGX(N_SYM, H_SYM, alpha)))\n",
    "\n",
    "display(sp.Eq(VX_sym, specular_V_GGX(V_SYM, N_SYM, L_SYM, alpha)))\n",
    "\n",
    "display(sp.Eq(sp.Symbol(\"MicrofacetBRDF\"), specular_component(VX_sym, D_sym)))\n",
    "\n",
    "microfacet_brdf = specular_component(specular_V_GGX(V_SYM, N_SYM, L_SYM, alpha), specular_D_GGX(N_SYM, H_SYM, alpha)).simplify()\n",
    "display(sp.Eq(sp.Symbol(\"MicrofacetBRDF\"), microfacet_brdf))\n"
   ]
  },
  {
   "cell_type": "markdown",
   "id": "c771e042",
   "metadata": {},
   "source": [
    "# Dielectric Component"
   ]
  },
  {
   "cell_type": "code",
   "execution_count": null,
   "id": "cca906d2",
   "metadata": {},
   "outputs": [],
   "source": [
    "display(M1_SYM * microfacet_brdf)\n",
    "dielectric_brdf = fresnel_mix(V_SYM, H_SYM, ior, diffuse_component(M1_SYM), M1_SYM * microfacet_brdf)\n",
    "display(sp.Eq(sp.MatrixSymbol(\"dielectric\", 3, 1), dielectric_brdf))"
   ]
  },
  {
   "cell_type": "markdown",
   "id": "ffa51eb0",
   "metadata": {},
   "source": [
    "# Metal Component"
   ]
  },
  {
   "cell_type": "code",
   "execution_count": null,
   "id": "20a0517a",
   "metadata": {},
   "outputs": [],
   "source": [
    "metal_brdf = conductor_fresnel(\n",
    "    V, H, base_color, microfacet_brdf\n",
    ")\n",
    "display(sp.Eq(sp.MatrixSymbol(\"metal\", 3, 1), metal_brdf))"
   ]
  },
  {
   "cell_type": "markdown",
   "id": "546eecbb",
   "metadata": {},
   "source": [
    "# full glTF "
   ]
  },
  {
   "cell_type": "code",
   "execution_count": null,
   "id": "72fd2063",
   "metadata": {},
   "outputs": [],
   "source": [
    "gltf_sym = sp.MatrixSymbol(\"gltf\",3, 1)\n",
    "\n",
    "gltf_brdf = mix(dielectric_brdf, metal_brdf, metallic)\n",
    "display(sp.Eq(gltf_sym, gltf_brdf))\n",
    "\n",
    "guarded_gltf_brdf = gltf(V, N, L, base_color, metallic, alpha)\n",
    "display(sp.Eq(sp.Symbol(\"gltf\"), guarded_gltf_brdf))\n",
    "display(sp.Eq(gltf_sym, guarded_gltf_brdf))\n"
   ]
  },
  {
   "cell_type": "code",
   "execution_count": null,
   "id": "2f29ac17",
   "metadata": {},
   "outputs": [],
   "source": [
    "import plotly.io as pio\n",
    "pio.renderers.default = \"notebook_connected\"\n",
    "\n",
    "from bsdf import *\n",
    "from glTF import *\n",
    "\n",
    "\n",
    "theta_v = 15 / 90.0 * np.pi / 2\n",
    "# phi_v = \n",
    "rho_val = np.array([1, 0.5, 0.5])\n",
    "roughness_val = 0.2\n",
    "metallic_val = 0.0\n",
    "ior_val = 1.5\n",
    "\n",
    "N_val = np.array([0, 0, 1], dtype=np.float32)\n",
    "V_val = np.array([np.sin(theta_v), 0, np.cos(theta_v)], dtype=np.float32)\n",
    "brdf = glTF_brdf()\n",
    "brdf_np = brdf.get_np()\n",
    "\n",
    "print(\n",
    "    \"Integral:\",\n",
    "    integrate_spherical_function(lambda l: brdf_np(\n",
    "        V_val, N_val, l, rho_val, roughness_val**2, metallic_val, 1.5) * np.abs(np_dot(l, N_val)), 10000),\n",
    ")\n",
    "plot_brdf(\n",
    "    \"glTF\",\n",
    "    lambda v, n, l: brdf_np(\n",
    "        v, n, l, rho_val, roughness_val**2, metallic_val, ior_val),\n",
    "    V_val,\n",
    "    normalize=False,\n",
    ")"
   ]
  },
  {
   "cell_type": "code",
   "execution_count": null,
   "id": "ad62f61b",
   "metadata": {},
   "outputs": [],
   "source": [
    "import matplotlib.pyplot as plt\n",
    "import numpy as np\n",
    "from bsdf import *\n",
    "from glTF import *\n",
    "import merl\n",
    "\n",
    "\n",
    "def linear_to_srgb(c):\n",
    "    return np.where(\n",
    "        c <= 0.0031308,\n",
    "        12.92 * c,\n",
    "        (1.0 + 0.055) * np.power(c, 1.0 / 2.4) - 0.055\n",
    "    )\n",
    "\n",
    "# merl_data = merl.read_merl_brdf(os.path.join(dir, f\"{material}.binary\"))\n",
    "\n",
    "\n",
    "theta_h, _, theta_d, _ = merl.generate_dense_half_diffs(0)\n",
    "theta_h, theta_d = np.meshgrid(theta_h, theta_d, indexing='ij')\n",
    "theta_o, phi_o, theta_i, phi_i = merl.half_diff_to_std_coords(\n",
    "    theta_h, 0, theta_d, np.pi / 2\n",
    ")\n",
    "n = np.array([0, 0, 1])\n",
    "v = np.stack((np.sin(theta_o) * np.cos(phi_o), np.sin(theta_o)\n",
    "             * np.sin(phi_o), np.cos(theta_o)), axis=-1)\n",
    "l = np.stack((np.sin(theta_i) * np.cos(phi_i), np.sin(theta_i)\n",
    "             * np.sin(phi_i), np.cos(theta_i)), axis=-1)\n",
    "\n",
    "\n",
    "brdf = glTF_brdf()\n",
    "brdf_np = brdf.get_np()\n",
    "rho_val = np.array([1, 0.2, 0.2])\n",
    "roughness_val = 0.01\n",
    "metallic_val = 0\n",
    "\n",
    "model_output = brdf_np(v, n, l, rho_val, roughness_val**2, metallic_val, 1.5)\n",
    "model_output = np.swapaxes(model_output, 0, -1).reshape(90, 90, 3)\n",
    "\n",
    "\n",
    "fig, ax = plt.subplots(1, 1)\n",
    "ax.set_xticks([])\n",
    "ax.set_xticks([], minor=True)\n",
    "ax.set_yticks([])\n",
    "ax.set_yticks([], minor=True)\n",
    "ax.imshow(np.clip(linear_to_srgb(model_output), 0, 1), origin='lower')\n",
    "plt.show()"
   ]
  }
 ],
 "metadata": {
  "kernelspec": {
   "display_name": "gltfit",
   "language": "python",
   "name": "python3"
  },
  "language_info": {
   "codemirror_mode": {
    "name": "ipython",
    "version": 3
   },
   "file_extension": ".py",
   "mimetype": "text/x-python",
   "name": "python",
   "nbconvert_exporter": "python",
   "pygments_lexer": "ipython3",
   "version": "3.11.13"
  }
 },
 "nbformat": 4,
 "nbformat_minor": 5
}
