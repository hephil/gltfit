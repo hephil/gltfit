{
 "cells": [
  {
   "cell_type": "markdown",
   "id": "2e119a5c",
   "metadata": {},
   "source": [
    "# glTF (Graphics Language Transmission Format)\n",
    "\n",
    "Material Specification is described in https://registry.khronos.org/glTF/specs/2.0/glTF-2.0.html#appendix-b-brdf-implementation\n",
    "\n"
   ]
  },
  {
   "cell_type": "code",
   "execution_count": null,
   "id": "9a480d91",
   "metadata": {},
   "outputs": [],
   "source": [
    "from glTF import *\n",
    "\n",
    "brdf = glTF_brdf()\n",
    "base_color, alpha, metallic = brdf.material_params\n",
    "ior = sp.Symbol(r'\\mathrm{ior}')\n",
    "# ior = 1.5 # default without KHR_materials_ior"
   ]
  },
  {
   "cell_type": "markdown",
   "id": "4c6828db",
   "metadata": {},
   "source": [
    "# Material Structure\n",
    "\n",
    "    material = mix(dielectric_brdf, metal_brdf, metallic)\n",
    "         = (1.0 - metallic) * dielectric_brdf + metallic * metal_brdf\n"
   ]
  },
  {
   "cell_type": "markdown",
   "id": "c08c7a92",
   "metadata": {},
   "source": [
    "## Metals\n",
    "\n",
    "metal_brdf =\n",
    "  conductor_fresnel(\n",
    "    f0 = baseColor,\n",
    "    bsdf = specular_brdf(\n",
    "      α = roughness ^ 2))"
   ]
  },
  {
   "cell_type": "markdown",
   "id": "b3cf71ae",
   "metadata": {},
   "source": [
    "## Dielectrics\n",
    "\n",
    "    dielectric_brdf =\n",
    "        fresnel_mix(\n",
    "            ior = 1.5,\n",
    "            base = diffuse_brdf(\n",
    "            color = baseColor),\n",
    "            layer = specular_brdf(\n",
    "            α = roughness ^ 2))"
   ]
  },
  {
   "cell_type": "markdown",
   "id": "be050504",
   "metadata": {},
   "source": [
    "# Diffuse Component"
   ]
  },
  {
   "cell_type": "code",
   "execution_count": null,
   "id": "65498521",
   "metadata": {},
   "outputs": [],
   "source": [
    "diffuse = diffuse_component(base_color)\n",
    "display(sp.Eq(sp.Symbol(\"LambertianBRDF\"), diffuse))"
   ]
  },
  {
   "cell_type": "markdown",
   "id": "950d19ac",
   "metadata": {},
   "source": [
    "# Specular Component"
   ]
  },
  {
   "cell_type": "code",
   "execution_count": null,
   "id": "36e14037",
   "metadata": {},
   "outputs": [],
   "source": [
    "H_sym, V_sym, L_sym, N_sym = sp.symbols(\"H, V, L, N\")\n",
    "display(sp.Eq(H_sym, V_sym + L_sym))\n",
    "\n",
    "D_sym, VX_sym = sp.symbols(\"D V_ggx\")\n",
    "\n",
    "display(sp.Eq(D_sym, specular_D_GGX(N_sym, H_sym, alpha)))\n",
    "\n",
    "display(sp.Eq(VX_sym, specular_V_GGX(V_sym, N_sym, L_sym, alpha)))\n",
    "\n",
    "display(sp.Eq(sp.Symbol(\"MicrofacetBRDF\"), specular_component(VX_sym, D_sym)))\n",
    "\n",
    "microfacet_brdf = specular_component(specular_V_GGX(V_sym, N_sym, L_sym, alpha), specular_D_GGX(N_sym, H_sym, alpha)).simplify()\n",
    "display(sp.Eq(sp.Symbol(\"MicrofacetBRDF\"), microfacet_brdf))\n"
   ]
  },
  {
   "cell_type": "markdown",
   "id": "c771e042",
   "metadata": {},
   "source": [
    "# Dielectric Component"
   ]
  },
  {
   "cell_type": "code",
   "execution_count": null,
   "id": "cca906d2",
   "metadata": {},
   "outputs": [],
   "source": [
    "dielectric_brdf = fresnel_mix(V, H, ior, diffuse, microfacet_brdf)\n",
    "display(sp.Eq(sp.Symbol(\"dielectric\"), dielectric_brdf))"
   ]
  },
  {
   "cell_type": "markdown",
   "id": "ffa51eb0",
   "metadata": {},
   "source": [
    "# Metal Component"
   ]
  },
  {
   "cell_type": "code",
   "execution_count": null,
   "id": "20a0517a",
   "metadata": {},
   "outputs": [],
   "source": [
    "metal_brdf = conductor_fresnel(\n",
    "    V, H, base_color, microfacet_brdf)\n",
    "display(metal_brdf)"
   ]
  },
  {
   "cell_type": "markdown",
   "id": "546eecbb",
   "metadata": {},
   "source": [
    "# full glTF "
   ]
  },
  {
   "cell_type": "code",
   "execution_count": null,
   "id": "72fd2063",
   "metadata": {},
   "outputs": [],
   "source": [
    "gltf_brdf = mix(dielectric_brdf, metal_brdf, metallic)\n",
    "display(gltf_brdf)\n",
    "\n",
    "guarded_gltf_brdf = gltf(V, N, L, base_color, metallic, alpha)\n",
    "display(guarded_gltf_brdf)\n"
   ]
  },
  {
   "cell_type": "code",
   "execution_count": null,
   "id": "2f29ac17",
   "metadata": {},
   "outputs": [],
   "source": [
    "import plotly.io as pio\n",
    "pio.renderers.default = \"notebook_connected\"\n",
    "\n",
    "from bsdf import *\n",
    "from glTF import *\n",
    "\n",
    "theta_v = 15 / 90.0 * np.pi / 2\n",
    "rho_val = np.array([1.        , 1.        , 0.99906583])\n",
    "roughness_val = np.sqrt(0.1133)\n",
    "metallic_val = 1.0\n",
    "\n",
    "N_val = np.array([0, 0, 1], dtype=np.float32)\n",
    "V_val = np.array([np.sin(theta_v), 0, np.cos(theta_v)], dtype=np.float32)\n",
    "brdf = glTF_brdf()\n",
    "brdf_np = brdf.get_np()\n",
    "\n",
    "print(\n",
    "    \"Integral:\",\n",
    "    integrate_spherical_function(lambda l: brdf_np(\n",
    "        V_val, N_val, l, rho_val, roughness_val**2, metallic_val) * np.abs(dot(l, N_val)), 100000),\n",
    ")\n",
    "plot_brdf(\n",
    "    \"glTF\",\n",
    "    lambda v, n, l: brdf_np(\n",
    "        v, n, l, rho_val, roughness_val**2, metallic_val),\n",
    "    V_val,\n",
    "    normalize=False,\n",
    ")"
   ]
  }
 ],
 "metadata": {
  "kernelspec": {
   "display_name": "gltfit",
   "language": "python",
   "name": "python3"
  },
  "language_info": {
   "codemirror_mode": {
    "name": "ipython",
    "version": 3
   },
   "file_extension": ".py",
   "mimetype": "text/x-python",
   "name": "python",
   "nbconvert_exporter": "python",
   "pygments_lexer": "ipython3",
   "version": "3.11.13"
  }
 },
 "nbformat": 4,
 "nbformat_minor": 5
}
